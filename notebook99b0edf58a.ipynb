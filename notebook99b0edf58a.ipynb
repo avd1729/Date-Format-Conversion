{
 "cells": [
  {
   "cell_type": "markdown",
   "id": "2fa6119d",
   "metadata": {
    "papermill": {
     "duration": 0.004841,
     "end_time": "2023-10-17T14:23:56.190130",
     "exception": false,
     "start_time": "2023-10-17T14:23:56.185289",
     "status": "completed"
    },
    "tags": []
   },
   "source": [
    "# **Setting up the environment**"
   ]
  },
  {
   "cell_type": "code",
   "execution_count": 1,
   "id": "6ca1af76",
   "metadata": {
    "execution": {
     "iopub.execute_input": "2023-10-17T14:23:56.200301Z",
     "iopub.status.busy": "2023-10-17T14:23:56.199901Z",
     "iopub.status.idle": "2023-10-17T14:23:56.208541Z",
     "shell.execute_reply": "2023-10-17T14:23:56.207658Z"
    },
    "papermill": {
     "duration": 0.0159,
     "end_time": "2023-10-17T14:23:56.210278",
     "exception": false,
     "start_time": "2023-10-17T14:23:56.194378",
     "status": "completed"
    },
    "tags": []
   },
   "outputs": [],
   "source": [
    "import warnings\n",
    "warnings.filterwarnings('ignore')"
   ]
  },
  {
   "cell_type": "code",
   "execution_count": 2,
   "id": "fa761118",
   "metadata": {
    "execution": {
     "iopub.execute_input": "2023-10-17T14:23:56.219704Z",
     "iopub.status.busy": "2023-10-17T14:23:56.219236Z",
     "iopub.status.idle": "2023-10-17T14:24:05.354351Z",
     "shell.execute_reply": "2023-10-17T14:24:05.353343Z"
    },
    "papermill": {
     "duration": 9.142208,
     "end_time": "2023-10-17T14:24:05.356624",
     "exception": false,
     "start_time": "2023-10-17T14:23:56.214416",
     "status": "completed"
    },
    "tags": []
   },
   "outputs": [],
   "source": [
    "import numpy as np\n",
    "import pandas as pd\n",
    "import tensorflow as tf"
   ]
  },
  {
   "cell_type": "code",
   "execution_count": 3,
   "id": "c83604d3",
   "metadata": {
    "execution": {
     "iopub.execute_input": "2023-10-17T14:24:05.369835Z",
     "iopub.status.busy": "2023-10-17T14:24:05.369309Z",
     "iopub.status.idle": "2023-10-17T14:24:05.375381Z",
     "shell.execute_reply": "2023-10-17T14:24:05.374452Z"
    },
    "papermill": {
     "duration": 0.015643,
     "end_time": "2023-10-17T14:24:05.377015",
     "exception": false,
     "start_time": "2023-10-17T14:24:05.361372",
     "status": "completed"
    },
    "tags": []
   },
   "outputs": [],
   "source": [
    "from datetime import date\n",
    "\n",
    "# cannot use strftime()'s %B format since it depends on the locale\n",
    "MONTHS = [\"January\", \"February\", \"March\", \"April\", \"May\", \"June\",\n",
    "          \"July\", \"August\", \"September\", \"October\", \"November\", \"December\"]\n",
    "\n",
    "def random_dates(n_dates):\n",
    "    min_date = date(1000, 1, 1).toordinal()\n",
    "    max_date = date(9999, 12, 31).toordinal()\n",
    "\n",
    "    ordinals = np.random.randint(max_date - min_date, size=n_dates) + min_date\n",
    "    dates = [date.fromordinal(ordinal) for ordinal in ordinals]\n",
    "\n",
    "    x = [MONTHS[dt.month - 1] + \" \" + dt.strftime(\"%d, %Y\") for dt in dates]\n",
    "    y = [dt.isoformat() for dt in dates]\n",
    "    return x, y"
   ]
  },
  {
   "cell_type": "code",
   "execution_count": 4,
   "id": "cf324d7f",
   "metadata": {
    "execution": {
     "iopub.execute_input": "2023-10-17T14:24:05.386768Z",
     "iopub.status.busy": "2023-10-17T14:24:05.385940Z",
     "iopub.status.idle": "2023-10-17T14:24:05.393721Z",
     "shell.execute_reply": "2023-10-17T14:24:05.392458Z"
    },
    "papermill": {
     "duration": 0.014304,
     "end_time": "2023-10-17T14:24:05.395371",
     "exception": false,
     "start_time": "2023-10-17T14:24:05.381067",
     "status": "completed"
    },
    "tags": []
   },
   "outputs": [
    {
     "name": "stdout",
     "output_type": "stream",
     "text": [
      "Input                    Target                   \n",
      "--------------------------------------------------\n",
      "September 20, 7075       7075-09-20               \n",
      "May 15, 8579             8579-05-15               \n",
      "January 11, 7103         7103-01-11               \n"
     ]
    }
   ],
   "source": [
    "np.random.seed(42)\n",
    "\n",
    "n_dates = 3\n",
    "x_example, y_example = random_dates(n_dates)\n",
    "print(\"{:25s}{:25s}\".format(\"Input\", \"Target\"))\n",
    "print(\"-\" * 50)\n",
    "for idx in range(n_dates):\n",
    "    print(\"{:25s}{:25s}\".format(x_example[idx], y_example[idx]))"
   ]
  },
  {
   "cell_type": "code",
   "execution_count": 5,
   "id": "9f54a642",
   "metadata": {
    "execution": {
     "iopub.execute_input": "2023-10-17T14:24:05.405568Z",
     "iopub.status.busy": "2023-10-17T14:24:05.404827Z",
     "iopub.status.idle": "2023-10-17T14:24:05.411091Z",
     "shell.execute_reply": "2023-10-17T14:24:05.410238Z"
    },
    "papermill": {
     "duration": 0.013189,
     "end_time": "2023-10-17T14:24:05.412749",
     "exception": false,
     "start_time": "2023-10-17T14:24:05.399560",
     "status": "completed"
    },
    "tags": []
   },
   "outputs": [
    {
     "data": {
      "text/plain": [
       "' ,0123456789ADFJMNOSabceghilmnoprstuvy'"
      ]
     },
     "execution_count": 5,
     "metadata": {},
     "output_type": "execute_result"
    }
   ],
   "source": [
    "INPUT_CHARS = \"\".join(sorted(set(\"\".join(MONTHS) + \"0123456789, \")))\n",
    "INPUT_CHARS"
   ]
  },
  {
   "cell_type": "code",
   "execution_count": 6,
   "id": "7eecdca5",
   "metadata": {
    "execution": {
     "iopub.execute_input": "2023-10-17T14:24:05.423047Z",
     "iopub.status.busy": "2023-10-17T14:24:05.422533Z",
     "iopub.status.idle": "2023-10-17T14:24:05.426363Z",
     "shell.execute_reply": "2023-10-17T14:24:05.425621Z"
    },
    "papermill": {
     "duration": 0.010812,
     "end_time": "2023-10-17T14:24:05.428026",
     "exception": false,
     "start_time": "2023-10-17T14:24:05.417214",
     "status": "completed"
    },
    "tags": []
   },
   "outputs": [],
   "source": [
    "OUTPUT_CHARS = \"0123456789-\""
   ]
  },
  {
   "cell_type": "code",
   "execution_count": 7,
   "id": "3488ab40",
   "metadata": {
    "execution": {
     "iopub.execute_input": "2023-10-17T14:24:05.438368Z",
     "iopub.status.busy": "2023-10-17T14:24:05.437637Z",
     "iopub.status.idle": "2023-10-17T14:24:05.442043Z",
     "shell.execute_reply": "2023-10-17T14:24:05.441286Z"
    },
    "papermill": {
     "duration": 0.011428,
     "end_time": "2023-10-17T14:24:05.443989",
     "exception": false,
     "start_time": "2023-10-17T14:24:05.432561",
     "status": "completed"
    },
    "tags": []
   },
   "outputs": [],
   "source": [
    "def date_str_to_ids(date_str, chars=INPUT_CHARS):\n",
    "    return [chars.index(c) for c in date_str]"
   ]
  },
  {
   "cell_type": "code",
   "execution_count": 8,
   "id": "2177a52b",
   "metadata": {
    "execution": {
     "iopub.execute_input": "2023-10-17T14:24:05.454425Z",
     "iopub.status.busy": "2023-10-17T14:24:05.453661Z",
     "iopub.status.idle": "2023-10-17T14:24:05.459744Z",
     "shell.execute_reply": "2023-10-17T14:24:05.458812Z"
    },
    "papermill": {
     "duration": 0.012999,
     "end_time": "2023-10-17T14:24:05.461540",
     "exception": false,
     "start_time": "2023-10-17T14:24:05.448541",
     "status": "completed"
    },
    "tags": []
   },
   "outputs": [
    {
     "data": {
      "text/plain": [
       "[19, 23, 31, 34, 23, 28, 21, 23, 32, 0, 4, 2, 1, 0, 9, 2, 9, 7]"
      ]
     },
     "execution_count": 8,
     "metadata": {},
     "output_type": "execute_result"
    }
   ],
   "source": [
    "date_str_to_ids(x_example[0], INPUT_CHARS)"
   ]
  },
  {
   "cell_type": "code",
   "execution_count": 9,
   "id": "cd8723bd",
   "metadata": {
    "execution": {
     "iopub.execute_input": "2023-10-17T14:24:05.472654Z",
     "iopub.status.busy": "2023-10-17T14:24:05.471386Z",
     "iopub.status.idle": "2023-10-17T14:24:05.477414Z",
     "shell.execute_reply": "2023-10-17T14:24:05.476419Z"
    },
    "papermill": {
     "duration": 0.013178,
     "end_time": "2023-10-17T14:24:05.479102",
     "exception": false,
     "start_time": "2023-10-17T14:24:05.465924",
     "status": "completed"
    },
    "tags": []
   },
   "outputs": [
    {
     "data": {
      "text/plain": [
       "[7, 0, 7, 5, 10, 0, 9, 10, 2, 0]"
      ]
     },
     "execution_count": 9,
     "metadata": {},
     "output_type": "execute_result"
    }
   ],
   "source": [
    "date_str_to_ids(y_example[0], OUTPUT_CHARS)"
   ]
  },
  {
   "cell_type": "code",
   "execution_count": 10,
   "id": "d6304d4e",
   "metadata": {
    "execution": {
     "iopub.execute_input": "2023-10-17T14:24:05.489845Z",
     "iopub.status.busy": "2023-10-17T14:24:05.489184Z",
     "iopub.status.idle": "2023-10-17T14:24:05.495961Z",
     "shell.execute_reply": "2023-10-17T14:24:05.495027Z"
    },
    "papermill": {
     "duration": 0.013775,
     "end_time": "2023-10-17T14:24:05.497597",
     "exception": false,
     "start_time": "2023-10-17T14:24:05.483822",
     "status": "completed"
    },
    "tags": []
   },
   "outputs": [],
   "source": [
    "def prepare_date_strs(date_strs, chars=INPUT_CHARS):\n",
    "    X_ids = [date_str_to_ids(dt, chars) for dt in date_strs]\n",
    "    X = tf.ragged.constant(X_ids, ragged_rank=1)\n",
    "    return (X + 1).to_tensor() # using 0 as the padding token ID\n",
    "\n",
    "def create_dataset(n_dates):\n",
    "    x, y = random_dates(n_dates)\n",
    "    return prepare_date_strs(x, INPUT_CHARS), prepare_date_strs(y, OUTPUT_CHARS)"
   ]
  },
  {
   "cell_type": "code",
   "execution_count": 11,
   "id": "b2cdf7c9",
   "metadata": {
    "execution": {
     "iopub.execute_input": "2023-10-17T14:24:05.507881Z",
     "iopub.status.busy": "2023-10-17T14:24:05.507117Z",
     "iopub.status.idle": "2023-10-17T14:24:14.421587Z",
     "shell.execute_reply": "2023-10-17T14:24:14.420565Z"
    },
    "papermill": {
     "duration": 8.921859,
     "end_time": "2023-10-17T14:24:14.423750",
     "exception": false,
     "start_time": "2023-10-17T14:24:05.501891",
     "status": "completed"
    },
    "tags": []
   },
   "outputs": [],
   "source": [
    "np.random.seed(42)\n",
    "\n",
    "X_train, Y_train = create_dataset(10000)\n",
    "X_valid, Y_valid = create_dataset(2000)\n",
    "X_test, Y_test = create_dataset(2000)"
   ]
  },
  {
   "cell_type": "code",
   "execution_count": 12,
   "id": "97177c5c",
   "metadata": {
    "execution": {
     "iopub.execute_input": "2023-10-17T14:24:14.434823Z",
     "iopub.status.busy": "2023-10-17T14:24:14.434258Z",
     "iopub.status.idle": "2023-10-17T14:24:14.456070Z",
     "shell.execute_reply": "2023-10-17T14:24:14.454873Z"
    },
    "papermill": {
     "duration": 0.029546,
     "end_time": "2023-10-17T14:24:14.458236",
     "exception": false,
     "start_time": "2023-10-17T14:24:14.428690",
     "status": "completed"
    },
    "tags": []
   },
   "outputs": [
    {
     "data": {
      "text/plain": [
       "<tf.Tensor: shape=(10,), dtype=int32, numpy=array([ 8,  1,  8,  6, 11,  1, 10, 11,  3,  1], dtype=int32)>"
      ]
     },
     "execution_count": 12,
     "metadata": {},
     "output_type": "execute_result"
    }
   ],
   "source": [
    "Y_train[0]"
   ]
  },
  {
   "cell_type": "markdown",
   "id": "ff6443b2",
   "metadata": {
    "papermill": {
     "duration": 0.004941,
     "end_time": "2023-10-17T14:24:14.468917",
     "exception": false,
     "start_time": "2023-10-17T14:24:14.463976",
     "status": "completed"
    },
    "tags": []
   },
   "source": [
    "# **Basic Seq2Seq Model**"
   ]
  },
  {
   "cell_type": "code",
   "execution_count": 13,
   "id": "c97c14fb",
   "metadata": {
    "execution": {
     "iopub.execute_input": "2023-10-17T14:24:14.480974Z",
     "iopub.status.busy": "2023-10-17T14:24:14.480700Z",
     "iopub.status.idle": "2023-10-17T14:25:40.762599Z",
     "shell.execute_reply": "2023-10-17T14:25:40.761574Z"
    },
    "papermill": {
     "duration": 86.290127,
     "end_time": "2023-10-17T14:25:40.764885",
     "exception": false,
     "start_time": "2023-10-17T14:24:14.474758",
     "status": "completed"
    },
    "tags": []
   },
   "outputs": [
    {
     "name": "stdout",
     "output_type": "stream",
     "text": [
      "Epoch 1/20\n",
      "313/313 [==============================] - 15s 15ms/step - loss: 1.7187 - accuracy: 0.3886 - val_loss: 1.2936 - val_accuracy: 0.5357\n",
      "Epoch 2/20\n",
      "313/313 [==============================] - 3s 9ms/step - loss: 1.1262 - accuracy: 0.5939 - val_loss: 0.9486 - val_accuracy: 0.6538\n",
      "Epoch 3/20\n",
      "313/313 [==============================] - 3s 10ms/step - loss: 0.9996 - accuracy: 0.6393 - val_loss: 0.7607 - val_accuracy: 0.7113\n",
      "Epoch 4/20\n",
      "313/313 [==============================] - 3s 10ms/step - loss: 0.6517 - accuracy: 0.7427 - val_loss: 0.5771 - val_accuracy: 0.7635\n",
      "Epoch 5/20\n",
      "313/313 [==============================] - 3s 9ms/step - loss: 0.4690 - accuracy: 0.8081 - val_loss: 0.3979 - val_accuracy: 0.8386\n",
      "Epoch 6/20\n",
      "313/313 [==============================] - 3s 10ms/step - loss: 0.6163 - accuracy: 0.7791 - val_loss: 0.8242 - val_accuracy: 0.6943\n",
      "Epoch 7/20\n",
      "313/313 [==============================] - 3s 9ms/step - loss: 0.5203 - accuracy: 0.8132 - val_loss: 0.3618 - val_accuracy: 0.8763\n",
      "Epoch 8/20\n",
      "313/313 [==============================] - 3s 10ms/step - loss: 0.2574 - accuracy: 0.9243 - val_loss: 0.1888 - val_accuracy: 0.9532\n",
      "Epoch 9/20\n",
      "313/313 [==============================] - 3s 9ms/step - loss: 0.1324 - accuracy: 0.9718 - val_loss: 0.1058 - val_accuracy: 0.9793\n",
      "Epoch 10/20\n",
      "313/313 [==============================] - 3s 11ms/step - loss: 0.0729 - accuracy: 0.9887 - val_loss: 0.0581 - val_accuracy: 0.9916\n",
      "Epoch 11/20\n",
      "313/313 [==============================] - 3s 9ms/step - loss: 0.0418 - accuracy: 0.9954 - val_loss: 0.0350 - val_accuracy: 0.9961\n",
      "Epoch 12/20\n",
      "313/313 [==============================] - 3s 10ms/step - loss: 0.0257 - accuracy: 0.9982 - val_loss: 0.0227 - val_accuracy: 0.9982\n",
      "Epoch 13/20\n",
      "313/313 [==============================] - 3s 9ms/step - loss: 0.0166 - accuracy: 0.9994 - val_loss: 0.0160 - val_accuracy: 0.9988\n",
      "Epoch 14/20\n",
      "313/313 [==============================] - 3s 9ms/step - loss: 0.0113 - accuracy: 0.9998 - val_loss: 0.0110 - val_accuracy: 0.9994\n",
      "Epoch 15/20\n",
      "313/313 [==============================] - 3s 9ms/step - loss: 0.0077 - accuracy: 0.9999 - val_loss: 0.0078 - val_accuracy: 0.9999\n",
      "Epoch 16/20\n",
      "313/313 [==============================] - 3s 9ms/step - loss: 0.0866 - accuracy: 0.9840 - val_loss: 2.2094 - val_accuracy: 0.2758\n",
      "Epoch 17/20\n",
      "313/313 [==============================] - 3s 10ms/step - loss: 0.6300 - accuracy: 0.7913 - val_loss: 0.2156 - val_accuracy: 0.9448\n",
      "Epoch 18/20\n",
      "313/313 [==============================] - 3s 9ms/step - loss: 0.1137 - accuracy: 0.9819 - val_loss: 0.0625 - val_accuracy: 0.9959\n",
      "Epoch 19/20\n",
      "313/313 [==============================] - 3s 9ms/step - loss: 0.0397 - accuracy: 0.9985 - val_loss: 0.0292 - val_accuracy: 0.9987\n",
      "Epoch 20/20\n",
      "313/313 [==============================] - 3s 9ms/step - loss: 0.0202 - accuracy: 0.9998 - val_loss: 0.0177 - val_accuracy: 0.9993\n"
     ]
    }
   ],
   "source": [
    "embedding_size = 32\n",
    "max_output_length = Y_train.shape[1]\n",
    "\n",
    "np.random.seed(42)\n",
    "tf.random.set_seed(42)\n",
    "\n",
    "encoder = tf.keras.Sequential([\n",
    "    tf.keras.layers.Embedding(input_dim=len(INPUT_CHARS) + 1,\n",
    "                           output_dim=embedding_size,\n",
    "                           input_shape=[None]),\n",
    "    tf.keras.layers.LSTM(128)\n",
    "])\n",
    "\n",
    "decoder = tf.keras.Sequential([\n",
    "    tf.keras.layers.LSTM(128, return_sequences=True),\n",
    "    tf.keras.layers.Dense(len(OUTPUT_CHARS) + 1, activation=\"softmax\")\n",
    "])\n",
    "\n",
    "model = tf.keras.Sequential([\n",
    "    encoder,\n",
    "    tf.keras.layers.RepeatVector(max_output_length),\n",
    "    decoder\n",
    "])\n",
    "\n",
    "optimizer = tf.keras.optimizers.Nadam()\n",
    "model.compile(loss=\"sparse_categorical_crossentropy\", optimizer=optimizer,\n",
    "              metrics=[\"accuracy\"])\n",
    "history = model.fit(X_train, Y_train, epochs=20,\n",
    "                    validation_data=(X_valid, Y_valid))"
   ]
  },
  {
   "cell_type": "code",
   "execution_count": 14,
   "id": "12197948",
   "metadata": {
    "execution": {
     "iopub.execute_input": "2023-10-17T14:25:40.912481Z",
     "iopub.status.busy": "2023-10-17T14:25:40.911794Z",
     "iopub.status.idle": "2023-10-17T14:25:40.916805Z",
     "shell.execute_reply": "2023-10-17T14:25:40.915831Z"
    },
    "papermill": {
     "duration": 0.056563,
     "end_time": "2023-10-17T14:25:40.918606",
     "exception": false,
     "start_time": "2023-10-17T14:25:40.862043",
     "status": "completed"
    },
    "tags": []
   },
   "outputs": [],
   "source": [
    "def ids_to_date_strs(ids, chars=OUTPUT_CHARS):\n",
    "    return [\"\".join([(\"?\" + chars)[index] for index in sequence])\n",
    "            for sequence in ids]"
   ]
  },
  {
   "cell_type": "code",
   "execution_count": 15,
   "id": "f6889b02",
   "metadata": {
    "execution": {
     "iopub.execute_input": "2023-10-17T14:25:41.018204Z",
     "iopub.status.busy": "2023-10-17T14:25:41.017940Z",
     "iopub.status.idle": "2023-10-17T14:25:41.027849Z",
     "shell.execute_reply": "2023-10-17T14:25:41.027042Z"
    },
    "papermill": {
     "duration": 0.062008,
     "end_time": "2023-10-17T14:25:41.029566",
     "exception": false,
     "start_time": "2023-10-17T14:25:40.967558",
     "status": "completed"
    },
    "tags": []
   },
   "outputs": [],
   "source": [
    "X_new = prepare_date_strs([\"September 17, 2009\", \"July 14, 1789\"])"
   ]
  },
  {
   "cell_type": "code",
   "execution_count": 16,
   "id": "47d52ce7",
   "metadata": {
    "execution": {
     "iopub.execute_input": "2023-10-17T14:25:41.129342Z",
     "iopub.status.busy": "2023-10-17T14:25:41.129081Z",
     "iopub.status.idle": "2023-10-17T14:25:41.808552Z",
     "shell.execute_reply": "2023-10-17T14:25:41.807409Z"
    },
    "papermill": {
     "duration": 0.731579,
     "end_time": "2023-10-17T14:25:41.810653",
     "exception": false,
     "start_time": "2023-10-17T14:25:41.079074",
     "status": "completed"
    },
    "tags": []
   },
   "outputs": [
    {
     "name": "stdout",
     "output_type": "stream",
     "text": [
      "1/1 [==============================] - 1s 635ms/step\n",
      "2009-09-17\n",
      "1789-07-14\n"
     ]
    }
   ],
   "source": [
    "ids = model.predict(X_new).argmax(axis=-1)\n",
    "for date_str in ids_to_date_strs(ids):\n",
    "    print(date_str)"
   ]
  },
  {
   "cell_type": "code",
   "execution_count": 17,
   "id": "9d50ea0f",
   "metadata": {
    "execution": {
     "iopub.execute_input": "2023-10-17T14:25:41.913613Z",
     "iopub.status.busy": "2023-10-17T14:25:41.913279Z",
     "iopub.status.idle": "2023-10-17T14:25:41.919843Z",
     "shell.execute_reply": "2023-10-17T14:25:41.919055Z"
    },
    "papermill": {
     "duration": 0.057145,
     "end_time": "2023-10-17T14:25:41.921481",
     "exception": false,
     "start_time": "2023-10-17T14:25:41.864336",
     "status": "completed"
    },
    "tags": []
   },
   "outputs": [],
   "source": [
    "X_new = prepare_date_strs([\"May 02, 2020\", \"July 14, 1789\"])"
   ]
  },
  {
   "cell_type": "code",
   "execution_count": 18,
   "id": "3690af4b",
   "metadata": {
    "execution": {
     "iopub.execute_input": "2023-10-17T14:25:42.021660Z",
     "iopub.status.busy": "2023-10-17T14:25:42.020800Z",
     "iopub.status.idle": "2023-10-17T14:25:42.686662Z",
     "shell.execute_reply": "2023-10-17T14:25:42.685592Z"
    },
    "papermill": {
     "duration": 0.718802,
     "end_time": "2023-10-17T14:25:42.688637",
     "exception": false,
     "start_time": "2023-10-17T14:25:41.969835",
     "status": "completed"
    },
    "tags": []
   },
   "outputs": [
    {
     "name": "stdout",
     "output_type": "stream",
     "text": [
      "1/1 [==============================] - 1s 623ms/step\n",
      "2020-11-22\n",
      "1789-19-14\n"
     ]
    }
   ],
   "source": [
    "ids = model.predict(X_new).argmax(axis=-1)\n",
    "for date_str in ids_to_date_strs(ids):\n",
    "    print(date_str)"
   ]
  },
  {
   "cell_type": "code",
   "execution_count": 19,
   "id": "7f5b9eb4",
   "metadata": {
    "execution": {
     "iopub.execute_input": "2023-10-17T14:25:42.799683Z",
     "iopub.status.busy": "2023-10-17T14:25:42.799334Z",
     "iopub.status.idle": "2023-10-17T14:25:42.805328Z",
     "shell.execute_reply": "2023-10-17T14:25:42.804289Z"
    },
    "papermill": {
     "duration": 0.063161,
     "end_time": "2023-10-17T14:25:42.807229",
     "exception": false,
     "start_time": "2023-10-17T14:25:42.744068",
     "status": "completed"
    },
    "tags": []
   },
   "outputs": [],
   "source": [
    "max_input_length = X_train.shape[1]\n",
    "\n",
    "def prepare_date_strs_padded(date_strs):\n",
    "    X = prepare_date_strs(date_strs)\n",
    "    if X.shape[1] < max_input_length:\n",
    "        X = tf.pad(X, [[0, 0], [0, max_input_length - X.shape[1]]])\n",
    "    return X\n",
    "\n",
    "def convert_date_strs(date_strs):\n",
    "    X = prepare_date_strs_padded(date_strs)\n",
    "    ids = model.predict(X).argmax(axis=-1)\n",
    "    return ids_to_date_strs(ids)"
   ]
  },
  {
   "cell_type": "code",
   "execution_count": 20,
   "id": "d2670438",
   "metadata": {
    "execution": {
     "iopub.execute_input": "2023-10-17T14:25:42.907940Z",
     "iopub.status.busy": "2023-10-17T14:25:42.907680Z",
     "iopub.status.idle": "2023-10-17T14:25:42.987299Z",
     "shell.execute_reply": "2023-10-17T14:25:42.986291Z"
    },
    "papermill": {
     "duration": 0.131237,
     "end_time": "2023-10-17T14:25:42.989245",
     "exception": false,
     "start_time": "2023-10-17T14:25:42.858008",
     "status": "completed"
    },
    "tags": []
   },
   "outputs": [
    {
     "name": "stdout",
     "output_type": "stream",
     "text": [
      "1/1 [==============================] - 0s 21ms/step\n"
     ]
    },
    {
     "data": {
      "text/plain": [
       "['2020-05-02', '1789-07-14']"
      ]
     },
     "execution_count": 20,
     "metadata": {},
     "output_type": "execute_result"
    }
   ],
   "source": [
    "convert_date_strs([\"May 02, 2020\", \"July 14, 1789\"])"
   ]
  },
  {
   "cell_type": "markdown",
   "id": "22bce6e1",
   "metadata": {
    "papermill": {
     "duration": 0.048859,
     "end_time": "2023-10-17T14:25:43.092821",
     "exception": false,
     "start_time": "2023-10-17T14:25:43.043962",
     "status": "completed"
    },
    "tags": []
   },
   "source": [
    "# **Feeding the shifted targets to the decoder (teacher forcing)**"
   ]
  },
  {
   "cell_type": "code",
   "execution_count": 21,
   "id": "58e18d76",
   "metadata": {
    "execution": {
     "iopub.execute_input": "2023-10-17T14:25:43.194434Z",
     "iopub.status.busy": "2023-10-17T14:25:43.194118Z",
     "iopub.status.idle": "2023-10-17T14:25:43.206471Z",
     "shell.execute_reply": "2023-10-17T14:25:43.205652Z"
    },
    "papermill": {
     "duration": 0.066031,
     "end_time": "2023-10-17T14:25:43.208199",
     "exception": false,
     "start_time": "2023-10-17T14:25:43.142168",
     "status": "completed"
    },
    "tags": []
   },
   "outputs": [],
   "source": [
    "sos_id = len(OUTPUT_CHARS) + 1\n",
    "\n",
    "def shifted_output_sequences(Y):\n",
    "    sos_tokens = tf.fill(dims=(len(Y), 1), value=sos_id)\n",
    "    return tf.concat([sos_tokens, Y[:, :-1]], axis=1)\n",
    "\n",
    "X_train_decoder = shifted_output_sequences(Y_train)\n",
    "X_valid_decoder = shifted_output_sequences(Y_valid)\n",
    "X_test_decoder = shifted_output_sequences(Y_test)"
   ]
  },
  {
   "cell_type": "code",
   "execution_count": 22,
   "id": "c3f7a9b6",
   "metadata": {
    "execution": {
     "iopub.execute_input": "2023-10-17T14:25:43.313456Z",
     "iopub.status.busy": "2023-10-17T14:25:43.312854Z",
     "iopub.status.idle": "2023-10-17T14:26:28.165772Z",
     "shell.execute_reply": "2023-10-17T14:26:28.164741Z"
    },
    "papermill": {
     "duration": 44.909766,
     "end_time": "2023-10-17T14:26:28.168444",
     "exception": false,
     "start_time": "2023-10-17T14:25:43.258678",
     "status": "completed"
    },
    "tags": []
   },
   "outputs": [
    {
     "name": "stdout",
     "output_type": "stream",
     "text": [
      "Epoch 1/10\n",
      "313/313 [==============================] - 10s 14ms/step - loss: 1.6548 - accuracy: 0.3850 - val_loss: 1.3302 - val_accuracy: 0.5063\n",
      "Epoch 2/10\n",
      "313/313 [==============================] - 3s 10ms/step - loss: 1.0607 - accuracy: 0.6131 - val_loss: 0.8310 - val_accuracy: 0.7079\n",
      "Epoch 3/10\n",
      "313/313 [==============================] - 4s 11ms/step - loss: 0.5693 - accuracy: 0.8047 - val_loss: 0.3907 - val_accuracy: 0.8713\n",
      "Epoch 4/10\n",
      "313/313 [==============================] - 3s 10ms/step - loss: 0.2470 - accuracy: 0.9329 - val_loss: 0.1614 - val_accuracy: 0.9638\n",
      "Epoch 5/10\n",
      "313/313 [==============================] - 3s 10ms/step - loss: 0.0993 - accuracy: 0.9847 - val_loss: 0.0654 - val_accuracy: 0.9936\n",
      "Epoch 6/10\n",
      "313/313 [==============================] - 3s 10ms/step - loss: 0.0682 - accuracy: 0.9904 - val_loss: 0.0367 - val_accuracy: 0.9982\n",
      "Epoch 7/10\n",
      "313/313 [==============================] - 3s 9ms/step - loss: 0.0258 - accuracy: 0.9993 - val_loss: 0.0206 - val_accuracy: 0.9995\n",
      "Epoch 8/10\n",
      "313/313 [==============================] - 3s 10ms/step - loss: 0.0161 - accuracy: 0.9998 - val_loss: 0.0139 - val_accuracy: 0.9999\n",
      "Epoch 9/10\n",
      "313/313 [==============================] - 3s 9ms/step - loss: 0.0107 - accuracy: 0.9999 - val_loss: 0.0097 - val_accuracy: 0.9998\n",
      "Epoch 10/10\n",
      "313/313 [==============================] - 3s 10ms/step - loss: 0.0602 - accuracy: 0.9890 - val_loss: 0.0157 - val_accuracy: 0.9997\n"
     ]
    }
   ],
   "source": [
    "encoder_embedding_size = 32\n",
    "decoder_embedding_size = 32\n",
    "lstm_units = 128\n",
    "\n",
    "np.random.seed(42)\n",
    "tf.random.set_seed(42)\n",
    "\n",
    "encoder_input = tf.keras.layers.Input(shape=[None], dtype=tf.int32)\n",
    "encoder_embedding = tf.keras.layers.Embedding(\n",
    "    input_dim=len(INPUT_CHARS) + 1,\n",
    "    output_dim=encoder_embedding_size)(encoder_input)\n",
    "_, encoder_state_h, encoder_state_c = tf.keras.layers.LSTM(\n",
    "    lstm_units, return_state=True)(encoder_embedding)\n",
    "encoder_state = [encoder_state_h, encoder_state_c]\n",
    "\n",
    "decoder_input = tf.keras.layers.Input(shape=[None], dtype=tf.int32)\n",
    "decoder_embedding = tf.keras.layers.Embedding(\n",
    "    input_dim=len(OUTPUT_CHARS) + 2,\n",
    "    output_dim=decoder_embedding_size)(decoder_input)\n",
    "decoder_lstm_output = tf.keras.layers.LSTM(lstm_units, return_sequences=True)(\n",
    "    decoder_embedding, initial_state=encoder_state)\n",
    "decoder_output = tf.keras.layers.Dense(len(OUTPUT_CHARS) + 1,\n",
    "                                    activation=\"softmax\")(decoder_lstm_output)\n",
    "\n",
    "model = tf.keras.Model(inputs=[encoder_input, decoder_input],\n",
    "                           outputs=[decoder_output])\n",
    "\n",
    "optimizer = tf.keras.optimizers.Nadam()\n",
    "model.compile(loss=\"sparse_categorical_crossentropy\", optimizer=optimizer,\n",
    "              metrics=[\"accuracy\"])\n",
    "history = model.fit([X_train, X_train_decoder], Y_train, epochs=10,\n",
    "                    validation_data=([X_valid, X_valid_decoder], Y_valid))"
   ]
  },
  {
   "cell_type": "code",
   "execution_count": 23,
   "id": "7fedfc5e",
   "metadata": {
    "execution": {
     "iopub.execute_input": "2023-10-17T14:26:28.322813Z",
     "iopub.status.busy": "2023-10-17T14:26:28.322084Z",
     "iopub.status.idle": "2023-10-17T14:26:28.329994Z",
     "shell.execute_reply": "2023-10-17T14:26:28.329029Z"
    },
    "papermill": {
     "duration": 0.09019,
     "end_time": "2023-10-17T14:26:28.331870",
     "exception": false,
     "start_time": "2023-10-17T14:26:28.241680",
     "status": "completed"
    },
    "tags": []
   },
   "outputs": [],
   "source": [
    "sos_id = len(OUTPUT_CHARS) + 1\n",
    "\n",
    "def predict_date_strs(date_strs):\n",
    "    X = prepare_date_strs_padded(date_strs)\n",
    "    Y_pred = tf.fill(dims=(len(X), 1), value=sos_id)\n",
    "    for index in range(max_output_length):\n",
    "        pad_size = max_output_length - Y_pred.shape[1]\n",
    "        X_decoder = tf.pad(Y_pred, [[0, 0], [0, pad_size]])\n",
    "        Y_probas_next = model.predict([X, X_decoder])[:, index:index+1]\n",
    "        Y_pred_next = tf.argmax(Y_probas_next, axis=-1, output_type=tf.int32)\n",
    "        Y_pred = tf.concat([Y_pred, Y_pred_next], axis=1)\n",
    "    return ids_to_date_strs(Y_pred[:, 1:])"
   ]
  },
  {
   "cell_type": "code",
   "execution_count": 24,
   "id": "9e7c65df",
   "metadata": {
    "execution": {
     "iopub.execute_input": "2023-10-17T14:26:28.481424Z",
     "iopub.status.busy": "2023-10-17T14:26:28.480330Z",
     "iopub.status.idle": "2023-10-17T14:26:29.722563Z",
     "shell.execute_reply": "2023-10-17T14:26:29.721491Z"
    },
    "papermill": {
     "duration": 1.319814,
     "end_time": "2023-10-17T14:26:29.724467",
     "exception": false,
     "start_time": "2023-10-17T14:26:28.404653",
     "status": "completed"
    },
    "tags": []
   },
   "outputs": [
    {
     "name": "stdout",
     "output_type": "stream",
     "text": [
      "1/1 [==============================] - 1s 594ms/step\n",
      "1/1 [==============================] - 0s 22ms/step\n",
      "1/1 [==============================] - 0s 22ms/step\n",
      "1/1 [==============================] - 0s 24ms/step\n",
      "1/1 [==============================] - 0s 23ms/step\n",
      "1/1 [==============================] - 0s 22ms/step\n",
      "1/1 [==============================] - 0s 21ms/step\n",
      "1/1 [==============================] - 0s 51ms/step\n",
      "1/1 [==============================] - 0s 23ms/step\n",
      "1/1 [==============================] - 0s 22ms/step\n"
     ]
    },
    {
     "data": {
      "text/plain": [
       "['1789-07-14', '2020-05-01']"
      ]
     },
     "execution_count": 24,
     "metadata": {},
     "output_type": "execute_result"
    }
   ],
   "source": [
    "predict_date_strs([\"July 14, 1789\", \"May 01, 2020\"])"
   ]
  }
 ],
 "metadata": {
  "kernelspec": {
   "display_name": "Python 3",
   "language": "python",
   "name": "python3"
  },
  "language_info": {
   "codemirror_mode": {
    "name": "ipython",
    "version": 3
   },
   "file_extension": ".py",
   "mimetype": "text/x-python",
   "name": "python",
   "nbconvert_exporter": "python",
   "pygments_lexer": "ipython3",
   "version": "3.10.12"
  },
  "papermill": {
   "default_parameters": {},
   "duration": 160.91168,
   "end_time": "2023-10-17T14:26:33.629104",
   "environment_variables": {},
   "exception": null,
   "input_path": "__notebook__.ipynb",
   "output_path": "__notebook__.ipynb",
   "parameters": {},
   "start_time": "2023-10-17T14:23:52.717424",
   "version": "2.4.0"
  }
 },
 "nbformat": 4,
 "nbformat_minor": 5
}
